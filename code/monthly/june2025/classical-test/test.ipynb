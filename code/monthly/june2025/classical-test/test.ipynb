{
 "cells": [
  {
   "cell_type": "code",
   "execution_count": 12,
   "id": "df5c09cc",
   "metadata": {},
   "outputs": [
    {
     "name": "stderr",
     "output_type": "stream",
     "text": [
      "100%|██████████| 500/500 [02:20<00:00,  3.55it/s]\n"
     ]
    }
   ],
   "source": [
    "import os\n",
    "import numpy as np\n",
    "from skimage.io import imread\n",
    "from skimage.filters import threshold_otsu\n",
    "from skimage.restoration import denoise_bilateral\n",
    "#from skimage.feature import greycomatrix, greycoprops\n",
    "from skimage.filters.rank import entropy\n",
    "from skimage.morphology import disk\n",
    "\n",
    "# Estimate texture using entropy (a good stand-in)\n",
    "#entropy_img = entropy((pan_img * 255).astype('uint8'), disk(3))\n",
    "#binary_coarse2 = entropy_img > entropy_img.mean() + 0.5 * entropy_img.std()\n",
    "\n",
    "from scipy.ndimage import median_filter, binary_dilation\n",
    "from sklearn.metrics import precision_score, recall_score, f1_score, jaccard_score, accuracy_score\n",
    "import pandas as pd\n",
    "from tqdm import tqdm \n",
    "\n",
    "# Define the folder paths\n",
    "image_folder = '/Volumes/My Passport for Mac/khdata/khcloudnet/cloudnet-batch0/additional-data/images'\n",
    "mask_folder = '/Volumes/My Passport for Mac/khdata/khcloudnet/cloudnet-batch0/additional-data/masks'\n",
    "\n",
    "# === METHOD IMPLEMENTATION ===\n",
    "def cloud_detection_method(pan_img):\n",
    "    # Normalize\n",
    "    pan_img = pan_img.astype(np.float32)\n",
    "    pan_img -= pan_img.min()\n",
    "    pan_img /= pan_img.max()\n",
    "\n",
    "    # Step 1: Adaptive Threshold + Median Filter\n",
    "    thresh = threshold_otsu(pan_img)\n",
    "    binary_coarse1 = pan_img > thresh\n",
    "    binary_coarse1 = median_filter(binary_coarse1.astype(float), size=3)\n",
    "\n",
    "    # Step 2: Texture using Entropy\n",
    "    pan_uint8 = (pan_img * 255).astype('uint8')\n",
    "    texture = entropy(pan_uint8, disk(3))\n",
    "    binary_coarse2 = texture > texture.mean() + 0.5 * texture.std()\n",
    "\n",
    "    # Step 3: Intersection and Morphological Dilation\n",
    "    final_mask = np.logical_and(binary_coarse1, binary_coarse2)\n",
    "    final_mask = binary_dilation(final_mask, structure=np.ones((5, 5)))\n",
    "\n",
    "    return final_mask.astype(np.uint8)\n",
    "\n",
    "# === EVALUATION LOOP ===\n",
    "results = []\n",
    "\n",
    "for filename in tqdm(os.listdir(image_folder)[0:500]):\n",
    "    if filename.endswith('.png') or filename.endswith('.tif'):\n",
    "        image_path = os.path.join(image_folder, filename)\n",
    "        mask_path = os.path.join(mask_folder, filename)\n",
    "\n",
    "        pan_img = imread(image_path, as_gray=True)\n",
    "        true_mask = imread(mask_path, as_gray=True)\n",
    "        true_mask = (true_mask > 0.5).astype(np.uint8)\n",
    "\n",
    "        pred_mask = cloud_detection_method(pan_img)\n",
    "\n",
    "        precision = precision_score(true_mask.flatten(), pred_mask.flatten(), zero_division=0)\n",
    "        recall = recall_score(true_mask.flatten(), pred_mask.flatten(), zero_division=0)\n",
    "        f1 = f1_score(true_mask.flatten(), pred_mask.flatten(), zero_division=0)\n",
    "        iou = jaccard_score(true_mask.flatten(), pred_mask.flatten(), zero_division=0)\n",
    "        accuracy = accuracy_score(true_mask.flatten(), pred_mask.flatten())\n",
    "        results.append({\n",
    "            'filename': filename,\n",
    "            'precision': precision,\n",
    "            'recall': recall,\n",
    "            'f1_score': f1,\n",
    "            'iou': iou, \n",
    "            'accuracy':accuracy,\n",
    "        })"
   ]
  },
  {
   "cell_type": "code",
   "execution_count": 13,
   "id": "b78e529a",
   "metadata": {},
   "outputs": [
    {
     "data": {
      "text/plain": [
       "(array([337.,   9.,   0.,   5.,   3.,   8.,   5.,  13.,  11.,  20.,  25.,\n",
       "         22.,  24.,  13.,   5.]),\n",
       " array([0.        , 0.06335896, 0.12671792, 0.19007687, 0.25343583,\n",
       "        0.31679479, 0.38015375, 0.4435127 , 0.50687166, 0.57023062,\n",
       "        0.63358958, 0.69694853, 0.76030749, 0.82366645, 0.88702541,\n",
       "        0.95038436]),\n",
       " <BarContainer object of 15 artists>)"
      ]
     },
     "execution_count": 13,
     "metadata": {},
     "output_type": "execute_result"
    },
    {
     "data": {
      "image/png": "[encoded data removed]",
      "text/plain": [
       "<Figure size 720x720 with 1 Axes>"
      ]
     },
     "metadata": {},
     "output_type": "display_data"
    }
   ],
   "source": [
    "import matplotlib.pyplot as plt \n",
    "import smplotlib \n",
    "f1_scores =  [i['f1_score'] for i in results]\n",
    "plt.hist(f1_scores)"
   ]
  },
  {
   "cell_type": "code",
   "execution_count": 32,
   "id": "bfcf3275",
   "metadata": {},
   "outputs": [
    {
     "name": "stderr",
     "output_type": "stream",
     "text": [
      "100%|██████████| 500/500 [07:56<00:00,  1.05it/s]\n"
     ]
    }
   ],
   "source": [
    "import numpy as np\n",
    "from s2cloudless import S2PixelCloudDetector\n",
    "\n",
    "def fake_rgbnir_from_pan(pan_img):\n",
    "    pan_img = pan_img.astype(np.float32)\n",
    "    pan_img -= pan_img.min()\n",
    "    pan_img /= pan_img.max()\n",
    "    rgbnir = np.stack([pan_img] * 10, axis=-1)\n",
    "    return rgbnir\n",
    "\n",
    "results = []\n",
    "\n",
    "for filename in tqdm(os.listdir(image_folder)[0:500]):\n",
    "    if filename.endswith('.png') or filename.endswith('.tif'):\n",
    "        image_path = os.path.join(image_folder, filename)\n",
    "        mask_path = os.path.join(mask_folder, filename)\n",
    "\n",
    "        pan_img = imread(image_path, as_gray=True)\n",
    "        true_mask = imread(mask_path, as_gray=True)\n",
    "        true_mask = (true_mask > 0.5).astype(np.uint8)\n",
    "\n",
    "        # Create fake 4-band image\n",
    "        fake_s2_input = fake_rgbnir_from_pan(pan_img)\n",
    "        fake_s2_input_batch = fake_s2_input[np.newaxis, ...]\n",
    "\n",
    "        # Create cloud detector\n",
    "        cloud_detector = S2PixelCloudDetector(threshold=0.4, average_over=4, dilation_size=2, all_bands=False)\n",
    "\n",
    "        # Predict cloud probability\n",
    "        cloud_probs = cloud_detector.get_cloud_probability_maps(fake_s2_input_batch)\n",
    "\n",
    "        # Apply threshold to get mask\n",
    "        pred_mask = cloud_probs > 0.5\n",
    "\n",
    "        precision = precision_score(true_mask.flatten(), pred_mask.flatten(), zero_division=0)\n",
    "        recall = recall_score(true_mask.flatten(), pred_mask.flatten(), zero_division=0)\n",
    "        f1 = f1_score(true_mask.flatten(), pred_mask.flatten(), zero_division=0)\n",
    "        iou = jaccard_score(true_mask.flatten(), pred_mask.flatten(), zero_division=0)\n",
    "        accuracy = accuracy_score(true_mask.flatten(), pred_mask.flatten())\n",
    "        results.append({\n",
    "            'filename': filename,\n",
    "            'precision': precision,\n",
    "            'recall': recall,\n",
    "            'f1_score': f1,\n",
    "            'iou': iou, \n",
    "            'accuracy':accuracy,\n",
    "        })"
   ]
  },
  {
   "cell_type": "code",
   "execution_count": 33,
   "id": "2b3eb8a8",
   "metadata": {},
   "outputs": [
    {
     "data": {
      "text/plain": [
       "(array([130.,  48., 118.,  21.,  21.,  18.,  19.,  19.,   5.,   8.,  14.,\n",
       "         11.,  12.,  18.,  38.]),\n",
       " array([7.62939453e-06, 6.66735331e-02, 1.33339437e-01, 2.00005341e-01,\n",
       "        2.66671244e-01, 3.33337148e-01, 4.00003052e-01, 4.66668955e-01,\n",
       "        5.33334859e-01, 6.00000763e-01, 6.66666667e-01, 7.33332570e-01,\n",
       "        7.99998474e-01, 8.66664378e-01, 9.33330282e-01, 9.99996185e-01]),\n",
       " <BarContainer object of 15 artists>)"
      ]
     },
     "execution_count": 33,
     "metadata": {},
     "output_type": "execute_result"
    },
    {
     "data": {
      "image/png": "[encoded data removed]",
      "text/plain": [
       "<Figure size 720x720 with 1 Axes>"
      ]
     },
     "metadata": {},
     "output_type": "display_data"
    }
   ],
   "source": [
    "import matplotlib.pyplot as plt \n",
    "import smplotlib \n",
    "f1_scores =  [i['accuracy'] for i in results]\n",
    "plt.hist(f1_scores)"
   ]
  },
  {
   "cell_type": "code",
   "execution_count": null,
   "id": "70dbe9a3",
   "metadata": {},
   "outputs": [
    {
     "data": {
      "text/plain": [
       "array([[[[False, False, False, ..., False, False, False],\n",
       "         [False, False, False, ..., False, False, False],\n",
       "         [False, False, False, ..., False, False, False],\n",
       "         ...,\n",
       "         [ True,  True,  True, ...,  True,  True,  True],\n",
       "         [ True,  True,  True, ...,  True,  True,  True],\n",
       "         [ True,  True,  True, ...,  True,  True,  True]]]])"
      ]
     },
     "execution_count": 25,
     "metadata": {},
     "output_type": "execute_result"
    }
   ],
   "source": []
  }
 ],
 "metadata": {
  "kernelspec": {
   "display_name": "gsfc311",
   "language": "python",
   "name": "python3"
  },
  "language_info": {
   "codemirror_mode": {
    "name": "ipython",
    "version": 3
   },
   "file_extension": ".py",
   "mimetype": "text/x-python",
   "name": "python",
   "nbconvert_exporter": "python",
   "pygments_lexer": "ipython3",
   "version": "3.11.9"
  }
 },
 "nbformat": 4,
 "nbformat_minor": 5
}
