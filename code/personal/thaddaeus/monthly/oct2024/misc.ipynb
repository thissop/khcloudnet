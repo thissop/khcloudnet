{
 "cells": [
  {
   "cell_type": "code",
   "execution_count": 22,
   "metadata": {},
   "outputs": [
    {
     "data": {
      "text/plain": [
       "568805"
      ]
     },
     "execution_count": 22,
     "metadata": {},
     "output_type": "execute_result"
    }
   ],
   "source": [
    "import pandas as pd \n",
    "\n",
    "catalog_path = '/Users/tkiker/Documents/GitHub/khcloudnet/data/declassiii-catalog.csv'\n",
    "\n",
    "df = pd.read_csv(catalog_path, encoding=\"utf-8\")\n",
    "df = df[df[\"Camera Resolution\"] == \"2 to 4 feet\"]\n",
    "\n",
    "len_high_res = len(df.index)\n",
    "len_high_res"
   ]
  },
  {
   "cell_type": "markdown",
   "metadata": {},
   "source": [
    "## NOTE TO SELF: NEED TO INCORPORATE IGNORING OF STRIPS > 10x10 degrees into the filtering!"
   ]
  },
  {
   "cell_type": "code",
   "execution_count": 23,
   "metadata": {},
   "outputs": [
    {
     "data": {
      "text/plain": [
       "535834"
      ]
     },
     "execution_count": 23,
     "metadata": {},
     "output_type": "execute_result"
    }
   ],
   "source": [
    "columns_to_check = [\"Center Latitude dec\", \"Center Longitude dec\", \"NW Corner Lat dec\", \"SE Corner Long dec\"]\n",
    "\n",
    "# Apply the filter to remove rows with zero values in any of the specified columns\n",
    "df = df[(df[columns_to_check] != 0).all(axis=1)]\n",
    "\n",
    "len_filtered = len(df.index)\n",
    "len_filtered"
   ]
  },
  {
   "cell_type": "code",
   "execution_count": 24,
   "metadata": {},
   "outputs": [
    {
     "data": {
      "text/plain": [
       "237642"
      ]
     },
     "execution_count": 24,
     "metadata": {},
     "output_type": "execute_result"
    }
   ],
   "source": [
    "# As this is an initial study, reduce dependence on human \n",
    "\n",
    "def filter_no_snow_dates(row):\n",
    "    lat = row[\"Center Latitude dec\"]\n",
    "    date = pd.to_datetime(row[\"Acquisition Date\"])\n",
    "    month = date.month\n",
    "\n",
    "    # Define no-snow period by latitude band\n",
    "    if lat > 66:  # Arctic\n",
    "        return month == 7  # July only\n",
    "    elif lat > 45:  # Mid-latitudes\n",
    "        return month in [6, 7, 8]  # June to August\n",
    "    else:  # Lower latitudes\n",
    "        return month in [5, 6, 7, 8, 9]  # May to September\n",
    "\n",
    "df = df[df.apply(filter_no_snow_dates, axis=1)]\n",
    "\n",
    "len_no_snow = len(df.index)\n",
    "len_no_snow"
   ]
  },
  {
   "cell_type": "code",
   "execution_count": 25,
   "metadata": {},
   "outputs": [
    {
     "name": "stdout",
     "output_type": "stream",
     "text": [
      "['D3C1201-200086A021', 'D3C1201-200086A022', 'D3C1201-200086A023', 'D3C1201-200086A024', 'D3C1201-200086A025', 'D3C1201-200086A026', 'D3C1201-200086A027', 'D3C1201-200086A028', 'D3C1201-200086A029', 'D3C1201-200086A030']\n"
     ]
    },
    {
     "data": {
      "text/plain": [
       "236294"
      ]
     },
     "execution_count": 25,
     "metadata": {},
     "output_type": "execute_result"
    }
   ],
   "source": [
    "# Find duplicate Entity IDs\n",
    "duplicate_ids = df[df.duplicated(subset='Entity ID', keep=False)]['Entity ID']\n",
    "\n",
    "# Print a few duplicate IDs (e.g., first 10)\n",
    "print(duplicate_ids.head(10).to_list())\n",
    "\n",
    "df = df.drop_duplicates(subset='Entity ID', keep='first').reset_index(drop=True)\n",
    "\n",
    "len_no_duplicates = len(df.index)\n",
    "len_no_duplicates"
   ]
  },
  {
   "cell_type": "code",
   "execution_count": 26,
   "metadata": {},
   "outputs": [],
   "source": [
    "df.to_csv('/Users/tkiker/Documents/GitHub/khcloudnet/data/filtered_key_df.csv', index=False)"
   ]
  },
  {
   "cell_type": "code",
   "execution_count": 32,
   "metadata": {},
   "outputs": [
    {
     "name": "stdout",
     "output_type": "stream",
     "text": [
      "Count of rows with 'A' suffix that have a conjugate 'F': 100803\n",
      "Count of rows with 'A' suffix that do NOT have a conjugate 'F': 9658\n",
      "Count of rows with 'F' suffix that have a conjugate 'A': 100803\n",
      "Count of rows with 'F' suffix that do NOT have a conjugate 'A': 25030\n"
     ]
    }
   ],
   "source": [
    "# interesting statistic for paper:\n",
    "\n",
    "import pandas as pd\n",
    "\n",
    "df = pd.read_csv('/Users/tkiker/Documents/GitHub/khcloudnet/data/filtered_key_df.csv')  \n",
    "\n",
    "# Extract Prefix and Suffix\n",
    "df['Prefix'] = df['Entity ID'].str[:-4]   \n",
    "df['Suffix'] = df['Entity ID'].str[-4]\n",
    "\n",
    "df['Conjugate Suffix'] = df['Suffix'].map({'A': 'F', 'F': 'A'})\n",
    "df['Conjugate ID'] = df['Prefix'] + df['Conjugate Suffix'] + df['Entity ID'].str[-3:]\n",
    "\n",
    "# Self-merge to find conjugate pairs\n",
    "merged_df = df.merge(df[['Entity ID']], left_on='Conjugate ID', right_on='Entity ID', how='left', indicator=True)\n",
    "\n",
    "# Rows where `_merge` is 'both' have conjugates; 'left_only' means no conjugate was found\n",
    "has_conjugate = merged_df['_merge'] == 'both'\n",
    "\n",
    "# Count results\n",
    "count_A_with_conjugate = ((merged_df['Suffix'] == 'A') & has_conjugate).sum()\n",
    "count_A_without_conjugate = ((merged_df['Suffix'] == 'A') & ~has_conjugate).sum()\n",
    "\n",
    "count_F_with_conjugate = ((merged_df['Suffix'] == 'F') & has_conjugate).sum()\n",
    "count_F_without_conjugate = ((merged_df['Suffix'] == 'F') & ~has_conjugate).sum()\n",
    "\n",
    "# Print the results\n",
    "print(f\"Count of rows with 'A' suffix that have a conjugate 'F': {count_A_with_conjugate}\")\n",
    "print(f\"Count of rows with 'A' suffix that do NOT have a conjugate 'F': {count_A_without_conjugate}\")\n",
    "print(f\"Count of rows with 'F' suffix that have a conjugate 'A': {count_F_with_conjugate}\")\n",
    "print(f\"Count of rows with 'F' suffix that do NOT have a conjugate 'A': {count_F_without_conjugate}\")"
   ]
  }
 ],
 "metadata": {
  "kernelspec": {
   "display_name": "gsfc310",
   "language": "python",
   "name": "python3"
  },
  "language_info": {
   "codemirror_mode": {
    "name": "ipython",
    "version": 3
   },
   "file_extension": ".py",
   "mimetype": "text/x-python",
   "name": "python",
   "nbconvert_exporter": "python",
   "pygments_lexer": "ipython3",
   "version": "3.11.9"
  }
 },
 "nbformat": 4,
 "nbformat_minor": 2
}
